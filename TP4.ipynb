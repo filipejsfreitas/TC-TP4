{
 "cells": [
  {
   "cell_type": "code",
   "execution_count": 4,
   "metadata": {},
   "outputs": [],
   "source": [
    "from cryptography.hazmat.primitives.ciphers import Cipher, algorithms, modes\n",
    "from cryptography.hazmat.primitives import hashes\n",
    "import os"
   ]
  },
  {
   "cell_type": "code",
   "execution_count": 6,
   "metadata": {},
   "outputs": [],
   "source": [
    "key = os.urandom(32)"
   ]
  },
  {
   "cell_type": "code",
   "execution_count": 84,
   "metadata": {},
   "outputs": [],
   "source": [
    "def encrypt_and_mac(key, msg):\n",
    "    nonce = os.urandom(16)\n",
    "\n",
    "    cipher = Cipher(algorithms.ChaCha20(key, nonce), mode = None)\n",
    "\n",
    "    sha256 = hashes.Hash(hashes.SHA256())\n",
    "    sha256.update(msg)\n",
    "    tag = sha256.finalize()\n",
    "\n",
    "    encryptor = cipher.encryptor()\n",
    "    ciphertext = encryptor.update(msg)\n",
    "\n",
    "    return nonce + ciphertext + tag\n",
    "\n",
    "def decrypt_and_mac(key, ciphertext):\n",
    "    nonce = ciphertext[:16]\n",
    "    tag = ciphertext[-32:]\n",
    "    ciphertext = ciphertext[16:-32]\n",
    "\n",
    "    cipher = Cipher(algorithms.ChaCha20(key, nonce), mode = None)\n",
    "\n",
    "    decryptor = cipher.decryptor()\n",
    "    msg = decryptor.update(ciphertext)\n",
    "\n",
    "    sha256 = hashes.Hash(hashes.SHA256())\n",
    "    sha256.update(msg)\n",
    "    computed_tag = sha256.finalize()\n",
    "\n",
    "    if computed_tag != tag:\n",
    "        raise ValueError('The HMAC of the message does not match')\n",
    "\n",
    "    return msg"
   ]
  },
  {
   "cell_type": "code",
   "execution_count": 85,
   "metadata": {},
   "outputs": [
    {
     "output_type": "execute_result",
     "data": {
      "text/plain": [
       "b'AAA'"
      ]
     },
     "metadata": {},
     "execution_count": 85
    }
   ],
   "source": [
    "ciphertext = encrypt_and_mac(key, b'AAA')\n",
    "decrypt_and_mac(key, ciphertext)"
   ]
  },
  {
   "cell_type": "code",
   "execution_count": 86,
   "metadata": {},
   "outputs": [],
   "source": [
    "def encrypt_then_mac(key, msg):\n",
    "    nonce = os.urandom(16)\n",
    "\n",
    "    cipher = Cipher(algorithms.ChaCha20(key, nonce), mode = None)\n",
    "\n",
    "    encryptor = cipher.encryptor()\n",
    "    ciphertext = encryptor.update(msg)\n",
    "\n",
    "    sha256 = hashes.Hash(hashes.SHA256())\n",
    "    sha256.update(ciphertext)\n",
    "    tag = sha256.finalize()\n",
    "\n",
    "    return nonce + ciphertext + tag\n",
    "\n",
    "def decrypt_then_mac(key, ciphertext):\n",
    "    nonce = ciphertext[:16]\n",
    "    tag = ciphertext[-32:]\n",
    "    ciphertext = ciphertext[16:-32]\n",
    "\n",
    "    sha256 = hashes.Hash(hashes.SHA256())\n",
    "    sha256.update(ciphertext)\n",
    "    computed_tag = sha256.finalize()\n",
    "\n",
    "    if computed_tag != tag:\n",
    "        raise ValueError('The HMAC of the messages don\\'t match')\n",
    "\n",
    "    cipher = Cipher(algorithms.ChaCha20(key, nonce), mode = None)\n",
    "    decryptor = cipher.decryptor()\n",
    "    msg = decryptor.update(ciphertext)\n",
    "    \n",
    "    return msg"
   ]
  },
  {
   "cell_type": "code",
   "execution_count": 88,
   "metadata": {},
   "outputs": [
    {
     "output_type": "execute_result",
     "data": {
      "text/plain": [
       "b'AAA'"
      ]
     },
     "metadata": {},
     "execution_count": 88
    }
   ],
   "source": [
    "ciphertext = encrypt_then_mac(key, b'AAA')\n",
    "decrypt_then_mac(key, ciphertext)"
   ]
  },
  {
   "cell_type": "code",
   "execution_count": 91,
   "metadata": {},
   "outputs": [],
   "source": [
    "def mac_then_encrypt(key, msg):\n",
    "    nonce = os.urandom(16)\n",
    "\n",
    "    cipher = Cipher(algorithms.ChaCha20(key, nonce), mode = None)\n",
    "\n",
    "    sha256 = hashes.Hash(hashes.SHA256())\n",
    "    sha256.update(msg)\n",
    "    tag = sha256.finalize()\n",
    "\n",
    "    encryptor = cipher.encryptor()\n",
    "    ciphertext = encryptor.update(msg + tag)\n",
    "    \n",
    "    return nonce + ciphertext\n",
    "\n",
    "def mac_then_decrypt(key, ciphertext):\n",
    "    nonce = ciphertext[:16]\n",
    "    ciphertext = ciphertext[16:]\n",
    "\n",
    "    cipher = Cipher(algorithms.ChaCha20(key, nonce), mode = None)\n",
    "\n",
    "    decryptor = cipher.decryptor()\n",
    "    msg = decryptor.update(ciphertext)\n",
    "\n",
    "    tag = msg[-32:]\n",
    "    msg = msg[:-32]\n",
    "\n",
    "    sha256 = hashes.Hash(hashes.SHA256())\n",
    "    sha256.update(msg)\n",
    "    computed_tag = sha256.finalize()\n",
    "\n",
    "    if computed_tag != tag:\n",
    "        raise ValueError('The HMAC of the messages don\\'t match')\n",
    "\n",
    "    return msg"
   ]
  },
  {
   "cell_type": "code",
   "execution_count": 92,
   "metadata": {},
   "outputs": [
    {
     "output_type": "execute_result",
     "data": {
      "text/plain": [
       "b'AAA'"
      ]
     },
     "metadata": {},
     "execution_count": 92
    }
   ],
   "source": [
    "ciphertext = mac_then_encrypt(key, b'AAA')\n",
    "mac_then_decrypt(key, ciphertext)"
   ]
  },
  {
   "cell_type": "code",
   "execution_count": null,
   "metadata": {},
   "outputs": [],
   "source": []
  }
 ],
 "metadata": {
  "kernelspec": {
   "display_name": "Python 3",
   "language": "python",
   "name": "python3"
  },
  "language_info": {
   "codemirror_mode": {
    "name": "ipython",
    "version": 3
   },
   "file_extension": ".py",
   "mimetype": "text/x-python",
   "name": "python",
   "nbconvert_exporter": "python",
   "pygments_lexer": "ipython3",
   "version": "3.8.3-final"
  }
 },
 "nbformat": 4,
 "nbformat_minor": 4
}